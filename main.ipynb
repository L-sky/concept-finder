{
 "cells": [
  {
   "cell_type": "code",
   "execution_count": 2,
   "metadata": {},
   "outputs": [],
   "source": [
    "from pyspark.sql import SparkSession\n",
    "\n",
    "spark = SparkSession.builder.\\\n",
    "    master('local[2]').\\\n",
    "    appName('scholar').\\\n",
    "    getOrCreate()\n",
    "\n",
    "sc = spark.sparkContext\n",
    "\n",
    "gzfile = './data/*.gz'\n",
    "sc_file = sc.textFile(gzfile)\n",
    "\n",
    "data = spark.read\\\n",
    "    .option('compression', 'gzip')\\\n",
    "    .json(gzfile)\\\n",
    "    .select('id', 'title', 'year', 'entities', 'paperAbstract')\\\n",
    "    .write.save('./data/orc', format='orc', mode='append')\n",
    "\n",
    "spark.stop()"
   ]
  },
  {
   "cell_type": "code",
   "execution_count": 2,
   "metadata": {},
   "outputs": [],
   "source": [
    "from rake_nltk import Rake\n",
    "\n",
    "from pyspark.sql import SparkSession\n",
    "from pyspark import SQLContext\n",
    "from pyspark.sql.types import ArrayType, StructType, StructField, FloatType, StringType\n",
    "from pyspark.sql.functions import udf"
   ]
  },
  {
   "cell_type": "code",
   "execution_count": 1,
   "metadata": {
    "scrolled": true
   },
   "outputs": [
    {
     "name": "stdout",
     "output_type": "stream",
     "text": [
      "Collecting rake_nltk\n",
      "  Downloading https://files.pythonhosted.org/packages/8e/c4/b4ff57e541ac5624ad4b20b89c2bafd4e98f29fd83139f3a81858bdb3815/rake_nltk-1.0.4.tar.gz\n",
      "Collecting nltk (from rake_nltk)\n",
      "\u001b[?25l  Downloading https://files.pythonhosted.org/packages/8d/5d/825889810b85c303c8559a3fd74d451d80cf3585a851f2103e69576bf583/nltk-3.4.3.zip (1.4MB)\n",
      "\u001b[K     |████████████████████████████████| 1.5MB 1.1MB/s eta 0:00:01\n",
      "\u001b[?25hRequirement already satisfied: six in /opt/conda/lib/python3.7/site-packages (from nltk->rake_nltk) (1.12.0)\n",
      "Building wheels for collected packages: rake-nltk, nltk\n",
      "  Building wheel for rake-nltk (setup.py) ... \u001b[?25lerror\n",
      "\u001b[31m  ERROR: Complete output from command /opt/conda/bin/python -u -c 'import setuptools, tokenize;__file__='\"'\"'/tmp/pip-install-46jk_i4s/rake-nltk/setup.py'\"'\"';f=getattr(tokenize, '\"'\"'open'\"'\"', open)(__file__);code=f.read().replace('\"'\"'\\r\\n'\"'\"', '\"'\"'\\n'\"'\"');f.close();exec(compile(code, __file__, '\"'\"'exec'\"'\"'))' bdist_wheel -d /tmp/pip-wheel-1limew8a --python-tag cp37:\u001b[0m\n",
      "\u001b[31m  ERROR: running bdist_wheel\n",
      "  running build\n",
      "  running build_py\n",
      "  creating build\n",
      "  creating build/lib\n",
      "  creating build/lib/rake_nltk\n",
      "  copying rake_nltk/__init__.py -> build/lib/rake_nltk\n",
      "  copying rake_nltk/rake.py -> build/lib/rake_nltk\n",
      "  copying rake_nltk/__version__.py -> build/lib/rake_nltk\n",
      "  installing to build/bdist.linux-x86_64/wheel\n",
      "  running install\n",
      "  running install_lib\n",
      "  creating build/bdist.linux-x86_64\n",
      "  creating build/bdist.linux-x86_64/wheel\n",
      "  creating build/bdist.linux-x86_64/wheel/rake_nltk\n",
      "  copying build/lib/rake_nltk/__init__.py -> build/bdist.linux-x86_64/wheel/rake_nltk\n",
      "  copying build/lib/rake_nltk/rake.py -> build/bdist.linux-x86_64/wheel/rake_nltk\n",
      "  copying build/lib/rake_nltk/__version__.py -> build/bdist.linux-x86_64/wheel/rake_nltk\n",
      "  running install_egg_info\n",
      "  running egg_info\n",
      "  writing rake_nltk.egg-info/PKG-INFO\n",
      "  writing dependency_links to rake_nltk.egg-info/dependency_links.txt\n",
      "  writing requirements to rake_nltk.egg-info/requires.txt\n",
      "  writing top-level names to rake_nltk.egg-info/top_level.txt\n",
      "  reading manifest file 'rake_nltk.egg-info/SOURCES.txt'\n",
      "  reading manifest template 'MANIFEST.in'\n",
      "  writing manifest file 'rake_nltk.egg-info/SOURCES.txt'\n",
      "  Copying rake_nltk.egg-info to build/bdist.linux-x86_64/wheel/rake_nltk-1.0.4-py3.7.egg-info\n",
      "  running install_scripts\n",
      "  Running post installation tasks\n",
      "  Traceback (most recent call last):\n",
      "    File \"<string>\", line 1, in <module>\n",
      "    File \"/tmp/pip-install-46jk_i4s/rake-nltk/setup.py\", line 81, in <module>\n",
      "      cmdclass={\"develop\": PostDevelop, \"install\": PostInstall},\n",
      "    File \"/opt/conda/lib/python3.7/site-packages/setuptools/__init__.py\", line 145, in setup\n",
      "      return distutils.core.setup(**attrs)\n",
      "    File \"/opt/conda/lib/python3.7/distutils/core.py\", line 148, in setup\n",
      "      dist.run_commands()\n",
      "    File \"/opt/conda/lib/python3.7/distutils/dist.py\", line 966, in run_commands\n",
      "      self.run_command(cmd)\n",
      "    File \"/opt/conda/lib/python3.7/distutils/dist.py\", line 985, in run_command\n",
      "      cmd_obj.run()\n",
      "    File \"/opt/conda/lib/python3.7/site-packages/wheel/bdist_wheel.py\", line 228, in run\n",
      "      self.run_command('install')\n",
      "    File \"/opt/conda/lib/python3.7/distutils/cmd.py\", line 313, in run_command\n",
      "      self.distribution.run_command(command)\n",
      "    File \"/opt/conda/lib/python3.7/distutils/dist.py\", line 985, in run_command\n",
      "      cmd_obj.run()\n",
      "    File \"/tmp/pip-install-46jk_i4s/rake-nltk/setup.py\", line 36, in run\n",
      "      self.execute(_post_install, [], msg=\"Running post installation tasks\")\n",
      "    File \"/opt/conda/lib/python3.7/distutils/cmd.py\", line 335, in execute\n",
      "      util.execute(func, args, msg, dry_run=self.dry_run)\n",
      "    File \"/opt/conda/lib/python3.7/distutils/util.py\", line 291, in execute\n",
      "      func(*args)\n",
      "    File \"/tmp/pip-install-46jk_i4s/rake-nltk/setup.py\", line 17, in _post_install\n",
      "      import nltk\n",
      "  ModuleNotFoundError: No module named 'nltk'\n",
      "  ----------------------------------------\u001b[0m\n",
      "\u001b[31m  ERROR: Failed building wheel for rake-nltk\u001b[0m\n",
      "\u001b[?25h  Running setup.py clean for rake-nltk\n",
      "  Building wheel for nltk (setup.py) ... \u001b[?25ldone\n",
      "\u001b[?25h  Stored in directory: /home/jovyan/.cache/pip/wheels/54/40/b7/c56ad418e6cd4d9e1e594b5e138d1ca6eec11a6ee3d464e5bb\n",
      "Successfully built nltk\n",
      "Failed to build rake-nltk\n",
      "Installing collected packages: nltk, rake-nltk\n",
      "  Running setup.py install for rake-nltk ... \u001b[?25ldone\n",
      "\u001b[?25hSuccessfully installed nltk-3.4.3 rake-nltk-1.0.4\n"
     ]
    }
   ],
   "source": [
    "!pip install rake_nltk"
   ]
  },
  {
   "cell_type": "code",
   "execution_count": 3,
   "metadata": {},
   "outputs": [],
   "source": [
    "spark = SparkSession.builder.\\\n",
    "    master('local[2]').\\\n",
    "    appName('scholar').\\\n",
    "    getOrCreate()\n",
    "\n",
    "sc = spark.sparkContext\n",
    "sqlContext = SQLContext(sc)\n",
    "\n",
    "\n",
    "data = sqlContext.read.format('orc').load('./data/orc')\n",
    "\n",
    "rake_schema = ArrayType(StructType([\n",
    "    StructField('score', FloatType()),\n",
    "    StructField('concept', StringType())\n",
    "]), containsNull=True)"
   ]
  },
  {
   "cell_type": "code",
   "execution_count": null,
   "metadata": {},
   "outputs": [
    {
     "name": "stdout",
     "output_type": "stream",
     "text": [
      "64594444\n"
     ]
    }
   ],
   "source": [
    "def apply_rake(text):\n",
    "    r = Rake()\n",
    "    r.extract_keywords_from_text(text)\n",
    "    return r.get_ranked_phrases_with_scores()\n",
    "\n",
    "\n",
    "spark_rake = udf(lambda text: apply_rake(text), rake_schema)\n",
    "\n",
    "res = data.filter('paperAbstract!=\\'\\'').select('id', 'title', 'year', 'entities', spark_rake('paperAbstract').alias('candidateConcepts'))\n",
    "print(res.count())\n",
    "\n",
    "res.write.save('./data/candidates', format='orc', mode='append')"
   ]
  },
  {
   "cell_type": "code",
   "execution_count": null,
   "metadata": {},
   "outputs": [],
   "source": []
  }
 ],
 "metadata": {
  "kernelspec": {
   "display_name": "Python 3",
   "language": "python",
   "name": "python3"
  },
  "language_info": {
   "codemirror_mode": {
    "name": "ipython",
    "version": 3
   },
   "file_extension": ".py",
   "mimetype": "text/x-python",
   "name": "python",
   "nbconvert_exporter": "python",
   "pygments_lexer": "ipython3",
   "version": "3.7.3"
  }
 },
 "nbformat": 4,
 "nbformat_minor": 2
}
